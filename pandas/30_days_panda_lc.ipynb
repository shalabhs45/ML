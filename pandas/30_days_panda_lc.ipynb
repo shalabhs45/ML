{
  "nbformat": 4,
  "nbformat_minor": 0,
  "metadata": {
    "colab": {
      "provenance": [],
      "authorship_tag": "ABX9TyP8xGPVPolHsFf8enLa652P",
      "include_colab_link": true
    },
    "kernelspec": {
      "name": "python3",
      "display_name": "Python 3"
    },
    "language_info": {
      "name": "python"
    }
  },
  "cells": [
    {
      "cell_type": "markdown",
      "metadata": {
        "id": "view-in-github",
        "colab_type": "text"
      },
      "source": [
        "<a href=\"https://colab.research.google.com/github/shalabhs45/ML/blob/main/pandas/30_days_panda_lc.ipynb\" target=\"_parent\"><img src=\"https://colab.research.google.com/assets/colab-badge.svg\" alt=\"Open In Colab\"/></a>"
      ]
    },
    {
      "cell_type": "markdown",
      "source": [
        "#183. Customers Who Never Order\n",
        "Easy\n",
        "Table: Customers\n",
        "\n",
        "+-------------+---------+\n",
        "| Column Name | Type    |\n",
        "+-------------+---------+\n",
        "|\n",
        "  id          | int     |\n",
        "|\n",
        "  name        | varchar |\n",
        "+-------------+---------+\n",
        "id is the primary key (column with unique values) for this table.\n",
        "Each row of this table indicates the ID and name of a customer.\n",
        "\n",
        "\n",
        "Table: Orders\n",
        "\n",
        "+-------------+------+\n",
        "| Column Name | Type |\n",
        "+-------------+------+\n",
        "| id          | int  |\n",
        "| customerId  | int  |\n",
        "+-------------+------+\n",
        "id is the primary key (column with unique values) for this table.\n",
        "customerId is a foreign key (reference columns) of the ID from the Customers table.\n",
        "Each row of this table indicates the ID of an order and the ID of the customer who ordered it.\n",
        "\n",
        "\n",
        "Write a solution to find all customers who never order anything.\n",
        "\n",
        "Return the result table in any order.\n",
        "\n",
        "The result format is in the following example."
      ],
      "metadata": {
        "id": "fvs3WLIKJC3t"
      }
    },
    {
      "cell_type": "code",
      "execution_count": null,
      "metadata": {
        "id": "vSunLppgIFvu"
      },
      "outputs": [],
      "source": [
        "# Solution 1\n",
        "SELECT name as Customers\n",
        "FROM Customers C\n",
        "WHERE C.Id NOT IN (SELECT O.CustomerId from Orders O)\n",
        "\n",
        "# Solution 2\n",
        "SELECT name as Customers\n",
        "FROM Customers A LEFT JOIN Orders B on  A.Id = B.CustomerId\n",
        "WHERE B.CustomerId is NULL\n",
        "\n",
        "# Solution 3\n",
        "SELECT name as Customers\n",
        "FROM Customers A\n",
        "WHERE NOT EXISTS (SELECT name FROM Orders B WHERE A.Id = B.CustomerId)"
      ]
    },
    {
      "cell_type": "code",
      "source": [
        "# Solution 1\n",
        "import pandas as pd\n",
        "\n",
        "def customers_who_never_order(customers: pd.DataFrame, orders: pd.DataFrame)->pd.DataFrame:\n",
        "    # Select the rows which `id` is not present in orders['customerId'].\n",
        "    df = customers[~customers['id'].isin(orders['customerId'])]\n",
        "\n",
        "    # Build a dataframe that only contains the column `name`\n",
        "    # and rename the column `name` as `Customers`.\n",
        "    df = df[['name']].rename(columns={'name': 'Customers'})\n",
        "    return df\n",
        "\n",
        "# Solution 2\n",
        "import pandas as pd\n",
        "\n",
        "def customers_who_never_order(customers: pd.DataFrame, orders: pd.DataFrame) -> pd.DataFrame:\n",
        "    df = customers.merge(orders, left_on='id', right_on='customerId', how='left')\n",
        "    df = df[df['customerId'].isna()]\n",
        "    df = df[['name']].rename(columns={'name': 'Customers'})\n",
        "    return df"
      ],
      "metadata": {
        "id": "ynH1e2QRJp3K"
      },
      "execution_count": 1,
      "outputs": []
    },
    {
      "cell_type": "markdown",
      "source": [
        "595. Big Countries\n",
        "Easy\n",
        "2.2K\n",
        "1.2K\n",
        "company\n",
        "Amazon\n",
        "company\n",
        "Apple\n",
        "company\n",
        "Bloomberg\n",
        "SQL Schema\n",
        "Pandas Schema\n",
        "Table: World\n",
        "\n",
        "+-------------+---------+\n",
        "| Column Name | Type    |\n",
        "+-------------+---------+\n",
        "| name        | varchar |\n",
        "| continent   | varchar |\n",
        "| area        | int     |\n",
        "| population  | int     |\n",
        "| gdp         | bigint  |\n",
        "+-------------+---------+\n",
        "name is the primary key (column with unique values) for this table.\n",
        "Each row of this table gives information about the name of a country, the continent to which it belongs, its area, the population, and its GDP value.\n",
        "\n",
        "\n",
        "A country is big if:\n",
        "\n",
        "it has an area of at least three million (i.e., 3000000 km2), or\n",
        "it has a population of at least twenty-five million (i.e., 25000000).\n",
        "Write a solution to find the name, population, and area of the big countries.\n",
        "\n",
        "Return the result table in any order.\n",
        "\n",
        "The result format is in the following example.\n",
        "\n",
        "\n",
        "\n",
        "Example 1:\n",
        "\n",
        "Input:\n",
        "World table:\n",
        "+-------------+-----------+---------+------------+--------------+\n",
        "| name        | continent | area    | population | gdp          |\n",
        "+-------------+-----------+---------+------------+--------------+\n",
        "| Afghanistan | Asia      | 652230  | 25500100   | 20343000000  |\n",
        "| Albania     | Europe    | 28748   | 2831741    | 12960000000  |\n",
        "| Algeria     | Africa    | 2381741 | 37100000   | 188681000000 |\n",
        "| Andorra     | Europe    | 468     | 78115      | 3712000000   |\n",
        "| Angola      | Africa    | 1246700 | 20609294   | 100990000000 |\n",
        "+-------------+-----------+---------+------------+--------------+\n",
        "Output:\n",
        "+-------------+------------+---------+\n",
        "| name        | population | area    |\n",
        "+-------------+------------+---------+\n",
        "| Afghanistan | 25500100   | 652230  |\n",
        "| Algeria     | 37100000   | 2381741 |\n",
        "+-------------+------------+---------+"
      ],
      "metadata": {
        "id": "rE486kcrKEDA"
      }
    },
    {
      "cell_type": "code",
      "source": [],
      "metadata": {
        "id": "pbBLq47aKLMR"
      },
      "execution_count": null,
      "outputs": []
    },
    {
      "cell_type": "code",
      "source": [
        "import pandas as pd\n",
        "\n",
        "def big_countries(world: pd.DataFrame) -> pd.DataFrame:\n",
        "    return world[(world['area'] >= 3000000) | (world['population'] >= 25000000)] [['name', 'population', 'area']]"
      ],
      "metadata": {
        "id": "Y518ZnGhKHBz"
      },
      "execution_count": null,
      "outputs": []
    },
    {
      "cell_type": "markdown",
      "source": [
        "1757. Recyclable and Low Fat Products\n",
        "Easy\n",
        "1.4K\n",
        "88\n",
        "company\n",
        "Amazon\n",
        "company\n",
        "Adobe\n",
        "company\n",
        "Microsoft\n",
        "SQL Schema\n",
        "Pandas Schema\n",
        "Table: Products\n",
        "\n",
        "+-------------+---------+\n",
        "| Column Name | Type    |\n",
        "+-------------+---------+\n",
        "| product_id  | int     |\n",
        "| low_fats    | enum    |\n",
        "| recyclable  | enum    |\n",
        "+-------------+---------+\n",
        "product_id is the primary key (column with unique values) for this table.\n",
        "low_fats is an ENUM (category) of type ('Y', 'N') where 'Y' means this product is low fat and 'N' means it is not.\n",
        "recyclable is an ENUM (category) of types ('Y', 'N') where 'Y' means this product is recyclable and 'N' means it is not.\n",
        "\n",
        "\n",
        "Write a solution to find the ids of products that are both low fat and recyclable.\n",
        "\n",
        "Return the result table in any order.\n",
        "\n",
        "The result format is in the following example.\n",
        "\n",
        "\n",
        "\n",
        "Example 1:\n",
        "\n",
        "Input:\n",
        "Products table:\n",
        "+-------------+----------+------------+\n",
        "| product_id  | low_fats | recyclable |\n",
        "+-------------+----------+------------+\n",
        "| 0           | Y        | N          |\n",
        "| 1           | Y        | Y          |\n",
        "| 2           | N        | Y          |\n",
        "| 3           | Y        | Y          |\n",
        "| 4           | N        | N          |\n",
        "+-------------+----------+------------+\n",
        "Output:\n",
        "+-------------+\n",
        "| product_id  |\n",
        "+-------------+\n",
        "| 1           |\n",
        "| 3           |\n",
        "+-------------+\n",
        "Explanation: Only products 1 and 3 are both low fat and recyclable."
      ],
      "metadata": {
        "id": "RIBvCuH2KdYi"
      }
    },
    {
      "cell_type": "code",
      "source": [
        "import pandas as pd\n",
        "\n",
        "def find_products(products: pd.DataFrame) -> pd.DataFrame:\n",
        "    df = products.loc[(products['low_fats'] == 'Y') & (products['recyclable'] == 'Y')]\n",
        "    return df.iloc[:,:1]"
      ],
      "metadata": {
        "id": "6dt7Nk-WKk67"
      },
      "execution_count": null,
      "outputs": []
    },
    {
      "cell_type": "code",
      "source": [
        "import pandas as pd\n",
        "\n",
        "def find_products(products: pd.DataFrame) -> pd.DataFrame:\n",
        "    return products[(products['low_fats'] == 'Y') & (products['recyclable'] == 'Y')] [[\"product_id\"]]"
      ],
      "metadata": {
        "id": "ZgJYWkyWKw9o"
      },
      "execution_count": null,
      "outputs": []
    }
  ]
}