{
  "nbformat": 4,
  "nbformat_minor": 0,
  "metadata": {
    "colab": {
      "provenance": [],
      "include_colab_link": true
    },
    "kernelspec": {
      "name": "python3",
      "display_name": "Python 3"
    },
    "language_info": {
      "name": "python"
    }
  },
  "cells": [
    {
      "cell_type": "markdown",
      "metadata": {
        "id": "view-in-github",
        "colab_type": "text"
      },
      "source": [
        "<a href=\"https://colab.research.google.com/github/shalabhs45/ML/blob/main/USML/UML1_Assignment_Notebook.ipynb\" target=\"_parent\"><img src=\"https://colab.research.google.com/assets/colab-badge.svg\" alt=\"Open In Colab\"/></a>"
      ]
    },
    {
      "cell_type": "code",
      "source": [
        "def warn(*args, **kwargs):\n",
        "    pass\n",
        "import warnings\n",
        "warnings.warn = warn"
      ],
      "metadata": {
        "id": "C41ugLLVwG4W"
      },
      "execution_count": null,
      "outputs": []
    },
    {
      "cell_type": "code",
      "execution_count": null,
      "metadata": {
        "id": "D6u-EbEUlkj_"
      },
      "outputs": [],
      "source": [
        "from matplotlib import pyplot as plt\n",
        "import numpy as np\n",
        "import pandas as pd\n",
        "from sklearn.cluster import AgglomerativeClustering, DBSCAN, KMeans\n",
        "from sklearn.decomposition import PCA\n",
        "from sklearn.metrics import silhouette_score\n",
        "from sklearn.preprocessing import StandardScaler"
      ]
    },
    {
      "cell_type": "code",
      "source": [
        "X_train = np.loadtxt(\"X_train.txt\")\n",
        "y_train = np.loadtxt(\"y_train.txt\").astype(int)\n",
        "\n",
        "X_test = np.loadtxt(\"X_test.txt\")\n",
        "y_test = np.loadtxt(\"y_test.txt\").astype(int)"
      ],
      "metadata": {
        "id": "MGTwy4PbnA9S"
      },
      "execution_count": null,
      "outputs": []
    },
    {
      "cell_type": "markdown",
      "source": [
        "1. Write a function to merge training and testing numpy arrays together as we are going to do unsupervised learning and we don't need separate data"
      ],
      "metadata": {
        "id": "T61Bin1HrdIf"
      }
    },
    {
      "cell_type": "code",
      "source": [
        "# Solution"
      ],
      "metadata": {
        "id": "zPDiEMw3n3QU"
      },
      "execution_count": null,
      "outputs": []
    },
    {
      "cell_type": "markdown",
      "source": [
        "2. Write a code to transform the data using PCA  to cover the 80% of the variance of the original (scaled) data?"
      ],
      "metadata": {
        "id": "uWoK6xINscIY"
      }
    },
    {
      "cell_type": "code",
      "source": [
        "# Solution"
      ],
      "metadata": {
        "id": "OVn2B7mlrv-H"
      },
      "execution_count": null,
      "outputs": []
    },
    {
      "cell_type": "markdown",
      "source": [
        "3. How many principal components cover 80% of the variance in data?"
      ],
      "metadata": {
        "id": "gGyn51pss508"
      }
    },
    {
      "cell_type": "code",
      "source": [
        "# Solution"
      ],
      "metadata": {
        "id": "pUC5cBjTszJF"
      },
      "execution_count": null,
      "outputs": []
    },
    {
      "cell_type": "markdown",
      "source": [
        "4. What percentage of the variance is covered by the top 3 principal components?"
      ],
      "metadata": {
        "id": "tizZZ1xntJKC"
      }
    },
    {
      "cell_type": "code",
      "source": [
        "# Solution"
      ],
      "metadata": {
        "id": "jLzbNv6ItEY-"
      },
      "execution_count": null,
      "outputs": []
    },
    {
      "cell_type": "markdown",
      "source": [
        "5. Write a code to visualize data on a 2-D plot"
      ],
      "metadata": {
        "id": "2xRtw_a_u8nN"
      }
    },
    {
      "cell_type": "code",
      "source": [
        "# Solution"
      ],
      "metadata": {
        "id": "qV8us-8ftOuA"
      },
      "execution_count": null,
      "outputs": []
    },
    {
      "cell_type": "markdown",
      "source": [
        "6. Perform k-means clustering and plot SSE to find out the optimal number of clusters"
      ],
      "metadata": {
        "id": "MDRkkd2mvR4q"
      }
    },
    {
      "cell_type": "code",
      "source": [
        "# Solution"
      ],
      "metadata": {
        "id": "onAvyRKovYq0"
      },
      "execution_count": null,
      "outputs": []
    },
    {
      "cell_type": "markdown",
      "source": [
        "Remember that each label in y represents\n",
        "* 1 - WALKING\n",
        "* 2 - WALKING_UPSTAIRS\n",
        "* 3 - WALKING_DOWNSTAIRS\n",
        "* 4 - SITTING\n",
        "* 5 - STANDING\n",
        "* 6 - LAYING"
      ],
      "metadata": {
        "id": "0KHOLGsYwhhT"
      }
    },
    {
      "cell_type": "markdown",
      "source": [
        "7. Calculate the SSE for 6 clusters using k-means"
      ],
      "metadata": {
        "id": "-URlM5IWy17t"
      }
    },
    {
      "cell_type": "code",
      "source": [
        "# Solution"
      ],
      "metadata": {
        "id": "zhF9NFRawCQv"
      },
      "execution_count": null,
      "outputs": []
    },
    {
      "cell_type": "markdown",
      "source": [
        "8. Compare the Silhouette score of k-means and Agglomerative clustering"
      ],
      "metadata": {
        "id": "4uYvb1QdysLw"
      }
    },
    {
      "cell_type": "code",
      "source": [
        "# Solution"
      ],
      "metadata": {
        "id": "0sz7QZXyxFE7"
      },
      "execution_count": null,
      "outputs": []
    },
    {
      "cell_type": "markdown",
      "source": [
        "9. Perform DBSCAN clustering with <i>epsilon</i>=10 and <i>min_samples</i>=5"
      ],
      "metadata": {
        "id": "cEnlmtN61jM3"
      }
    },
    {
      "cell_type": "code",
      "source": [
        "# Solution"
      ],
      "metadata": {
        "id": "wXoC1nZK07vY"
      },
      "execution_count": null,
      "outputs": []
    },
    {
      "cell_type": "markdown",
      "source": [
        "10. Compare the silhoutte score of DBSCAN with earlier clustering methods."
      ],
      "metadata": {
        "id": "QvTIvVJg2wWh"
      }
    },
    {
      "cell_type": "code",
      "source": [
        "# Solution"
      ],
      "metadata": {
        "id": "0FkgexMZ1wDx"
      },
      "execution_count": null,
      "outputs": []
    },
    {
      "cell_type": "code",
      "source": [],
      "metadata": {
        "id": "XR-hYrM11yhu"
      },
      "execution_count": null,
      "outputs": []
    }
  ]
}